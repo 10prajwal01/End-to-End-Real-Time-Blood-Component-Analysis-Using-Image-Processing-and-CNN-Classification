train_dir = "/Real-Time Blood Component Count Analysis Using Image Processing and CNN Classification Model with Machine Learning. (FINAL)/cbc/archive/dataset2-master/dataset2-master/images/TRAIN"
test_dir = "/Real-Time Blood Component Count Analysis Using Image Processing and CNN Classification Model with Machine Learning. (FINAL)/cbc/archive/dataset2-master/dataset2-master/images/TEST"
